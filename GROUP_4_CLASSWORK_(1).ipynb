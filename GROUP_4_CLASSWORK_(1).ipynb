{
  "nbformat": 4,
  "nbformat_minor": 0,
  "metadata": {
    "colab": {
      "provenance": [],
      "include_colab_link": true
    },
    "kernelspec": {
      "name": "python3",
      "display_name": "Python 3"
    },
    "language_info": {
      "name": "python"
    }
  },
  "cells": [
    {
      "cell_type": "markdown",
      "metadata": {
        "id": "view-in-github",
        "colab_type": "text"
      },
      "source": [
        "<a href=\"https://colab.research.google.com/github/PINA-GUWOR/My-Python-Assignment1/blob/main/GROUP_4_CLASSWORK_(1).ipynb\" target=\"_parent\"><img src=\"https://colab.research.google.com/assets/colab-badge.svg\" alt=\"Open In Colab\"/></a>"
      ]
    },
    {
      "cell_type": "code",
      "execution_count": null,
      "metadata": {
        "id": "ezmogW4Rx6Q0"
      },
      "outputs": [],
      "source": [
        "\n"
      ]
    },
    {
      "cell_type": "markdown",
      "source": [
        "GROUP 4 DATA SCIENCE CLASSWORK\n",
        "NAME OF PARTICIPANTS\n"
      ],
      "metadata": {
        "id": "1T3O4yOJ2PG-"
      }
    },
    {
      "cell_type": "code",
      "source": [
        "# write a python program to get the largest number from a list"
      ],
      "metadata": {
        "id": "yQg53HP32nUg"
      },
      "execution_count": null,
      "outputs": []
    },
    {
      "cell_type": "code",
      "source": [
        "def max_num_in_list(list):\n",
        "\n",
        "  max_value = list[0]\n",
        "  for a in list:\n",
        "    if a > max_value:\n",
        "      max_value = a\n",
        "  return max_value\n"
      ],
      "metadata": {
        "id": "YNxydNAW2nXT"
      },
      "execution_count": null,
      "outputs": []
    },
    {
      "cell_type": "code",
      "source": [
        "#trying out the program\n",
        "\n",
        "max_num_in_list([1, 4, 7, 10])"
      ],
      "metadata": {
        "colab": {
          "base_uri": "https://localhost:8080/"
        },
        "id": "awez2v0-yBat",
        "outputId": "7778c8c9-ffe1-4e8e-a3bd-f84fe437b315"
      },
      "execution_count": null,
      "outputs": [
        {
          "output_type": "execute_result",
          "data": {
            "text/plain": [
              "10"
            ]
          },
          "metadata": {},
          "execution_count": 8
        }
      ]
    },
    {
      "cell_type": "code",
      "source": [
        "def largestNumber(lst):\n",
        "    largest = max(lst)\n",
        "\n",
        "    print (largest)"
      ],
      "metadata": {
        "id": "Odwn1EYx7bLw"
      },
      "execution_count": null,
      "outputs": []
    },
    {
      "cell_type": "code",
      "source": [
        "num_list = [1,8,5,99.50]\n",
        "largestNumber(num_list)"
      ],
      "metadata": {
        "id": "U49aE99F7bad",
        "colab": {
          "base_uri": "https://localhost:8080/"
        },
        "outputId": "e5b2ac2c-4b82-44c2-cde1-9fd495add834"
      },
      "execution_count": null,
      "outputs": [
        {
          "output_type": "stream",
          "name": "stdout",
          "text": [
            "99.5\n"
          ]
        }
      ]
    },
    {
      "cell_type": "code",
      "source": [
        "def largestNumber(list):\n",
        "    largest = max(list)\n",
        "\n",
        "    print (largest)"
      ],
      "metadata": {
        "id": "6aTv02Ru7b0m"
      },
      "execution_count": null,
      "outputs": []
    },
    {
      "cell_type": "code",
      "source": [
        "largestNumber([1,2,6,8,6,8])"
      ],
      "metadata": {
        "id": "OwWoqJap2jGQ",
        "colab": {
          "base_uri": "https://localhost:8080/"
        },
        "outputId": "ede2cee2-47d9-4aab-a8dc-1b58c23860f5"
      },
      "execution_count": null,
      "outputs": [
        {
          "output_type": "stream",
          "name": "stdout",
          "text": [
            "8\n"
          ]
        }
      ]
    },
    {
      "cell_type": "code",
      "source": [
        "my_list = [1,2,6,8,6,8]\n",
        "max(my_list)"
      ],
      "metadata": {
        "colab": {
          "base_uri": "https://localhost:8080/"
        },
        "id": "PMU4fnjuaJ2g",
        "outputId": "3aafdbd6-4f96-42cd-b3a8-8f8317da541e"
      },
      "execution_count": null,
      "outputs": [
        {
          "output_type": "execute_result",
          "data": {
            "text/plain": [
              "8"
            ]
          },
          "metadata": {},
          "execution_count": 47
        }
      ]
    },
    {
      "cell_type": "code",
      "source": [
        "#2 write a program to get the smallest number from a list"
      ],
      "metadata": {
        "id": "djMOlijbDO0_"
      },
      "execution_count": null,
      "outputs": []
    },
    {
      "cell_type": "code",
      "source": [
        "def min_num_in_list(list):\n",
        "\n",
        "  min_value = list[0]\n",
        "  for a in list:\n",
        "    if a < min_value:\n",
        "      min_value = a\n",
        "  return min_value\n"
      ],
      "metadata": {
        "id": "aYRBX1FjEQTI"
      },
      "execution_count": null,
      "outputs": []
    },
    {
      "cell_type": "code",
      "source": [
        "#trying out the program\n",
        "\n",
        "min_num_in_list([1, 4, 7, 10])"
      ],
      "metadata": {
        "colab": {
          "base_uri": "https://localhost:8080/"
        },
        "id": "csnwJkKSEQhG",
        "outputId": "64524336-9059-424a-a6fc-cfe0856e504f"
      },
      "execution_count": null,
      "outputs": [
        {
          "output_type": "execute_result",
          "data": {
            "text/plain": [
              "1"
            ]
          },
          "metadata": {},
          "execution_count": 21
        }
      ]
    },
    {
      "cell_type": "code",
      "source": [
        "def SmallestNumber(lst):\n",
        "    Smallest = min(lst)\n",
        "\n",
        "    print (Smallest)"
      ],
      "metadata": {
        "id": "kS8QlQjfEQps"
      },
      "execution_count": null,
      "outputs": []
    },
    {
      "cell_type": "code",
      "source": [
        "num_list = [1,8,5,99.50]\n",
        "SmallestNumber(num_list)"
      ],
      "metadata": {
        "colab": {
          "base_uri": "https://localhost:8080/"
        },
        "id": "6qkjbCTgFTdi",
        "outputId": "d9358790-de44-401c-d1e2-8cf3e13a1580"
      },
      "execution_count": null,
      "outputs": [
        {
          "output_type": "stream",
          "name": "stdout",
          "text": [
            "1\n"
          ]
        }
      ]
    },
    {
      "cell_type": "code",
      "source": [
        "def SmallestNumber(list):\n",
        "    Smallest = min(list)\n",
        "\n",
        "    print (Smallest)"
      ],
      "metadata": {
        "id": "naGahc9kFTkT"
      },
      "execution_count": null,
      "outputs": []
    },
    {
      "cell_type": "code",
      "source": [
        "SmallestNumber([1,2,6,8,6,8])"
      ],
      "metadata": {
        "colab": {
          "base_uri": "https://localhost:8080/"
        },
        "id": "rsAftF02Gcfs",
        "outputId": "b1ebd171-380e-42eb-ec81-f18915853005"
      },
      "execution_count": null,
      "outputs": [
        {
          "output_type": "stream",
          "name": "stdout",
          "text": [
            "1\n"
          ]
        }
      ]
    },
    {
      "cell_type": "code",
      "source": [
        "my_list = [1,2,6,8,6,8]\n",
        "min(my_list)"
      ],
      "metadata": {
        "colab": {
          "base_uri": "https://localhost:8080/"
        },
        "id": "B2y5rrw2amwg",
        "outputId": "7a43c891-cff2-44c8-baf7-c36287faa8d8"
      },
      "execution_count": null,
      "outputs": [
        {
          "output_type": "execute_result",
          "data": {
            "text/plain": [
              "1"
            ]
          },
          "metadata": {},
          "execution_count": 48
        }
      ]
    },
    {
      "cell_type": "code",
      "source": [
        "#3 write a python code script to add a key to a dictionary"
      ],
      "metadata": {
        "id": "3dx5CnKOGcic"
      },
      "execution_count": null,
      "outputs": []
    },
    {
      "cell_type": "code",
      "source": [
        " Group_4_dict= {'Brenda':'owerri', 'Cynthia':'Ghana', 'Charity':'Makurdi', 'Pina':'Port Harcourt', 'Beryl':'Nairobi'}\n"
      ],
      "metadata": {
        "id": "Ilw4fJzyHiIO"
      },
      "execution_count": null,
      "outputs": []
    },
    {
      "cell_type": "code",
      "source": [
        "print(Group_4_dict)"
      ],
      "metadata": {
        "colab": {
          "base_uri": "https://localhost:8080/"
        },
        "id": "yrukhmlzHiKS",
        "outputId": "2495ec8f-b37e-48c8-e331-6250e9462994"
      },
      "execution_count": null,
      "outputs": [
        {
          "output_type": "stream",
          "name": "stdout",
          "text": [
            "{'Brenda': 'owerri', 'Cynthia': 'Ghana', 'Charity': 'Makurdi', 'Pina': 'Port Harcourt', 'Beryl': 'Nairobi'}\n"
          ]
        }
      ]
    },
    {
      "cell_type": "code",
      "source": [
        "Group_4_dict['Mariam'] = 'Lagos'\n",
        "print(Group_4_dict)"
      ],
      "metadata": {
        "colab": {
          "base_uri": "https://localhost:8080/"
        },
        "id": "EI_cVxuyHiPW",
        "outputId": "95808796-740c-4333-a186-acb64678d736"
      },
      "execution_count": null,
      "outputs": [
        {
          "output_type": "stream",
          "name": "stdout",
          "text": [
            "{'Brenda': 'owerri', 'Cynthia': 'Ghana', 'Charity': 'Makurdi', 'Pina': 'Port Harcourt', 'Beryl': 'Nairobi', 'Mariam': 'Lagos'}\n"
          ]
        }
      ]
    },
    {
      "cell_type": "code",
      "source": [
        "# method 2"
      ],
      "metadata": {
        "id": "bnU7kztMHieS"
      },
      "execution_count": null,
      "outputs": []
    },
    {
      "cell_type": "code",
      "source": [
        "Group_4_dict.update({'Jane':'Nigeria', 'Joy':'Lagos', 'Opemipo':'Rivers'})\n",
        "print(Group_4_dict)"
      ],
      "metadata": {
        "colab": {
          "base_uri": "https://localhost:8080/"
        },
        "id": "nwyLR_AcNqCn",
        "outputId": "bf186d2f-7514-4478-b03f-6280c6858d4d"
      },
      "execution_count": null,
      "outputs": [
        {
          "output_type": "stream",
          "name": "stdout",
          "text": [
            "{'Brenda': 'owerri', 'Cynthia': 'Ghana', 'Charity': 'Makurdi', 'Pina': 'Port Harcourt', 'Beryl': 'Nairobi', 'Mariam': 'Lagos', 'Jane': 'Nigeria', 'Joy': 'Lagos', 'Opemipo': 'Rivers'}\n"
          ]
        }
      ]
    },
    {
      "cell_type": "code",
      "source": [
        "# write a python script tp merge two python dictionaries"
      ],
      "metadata": {
        "id": "kr0DCODcNqFb"
      },
      "execution_count": null,
      "outputs": []
    },
    {
      "cell_type": "code",
      "source": [
        "students = {'Jane':10, 'Laura':20, 'Joy':15}\n",
        "parents = {'Jerry':20, 'Janet':50, 'David':70}\n",
        "students.update(parents)\n",
        "print(students)"
      ],
      "metadata": {
        "colab": {
          "base_uri": "https://localhost:8080/"
        },
        "id": "LMfU9gxsHih3",
        "outputId": "7f3397a4-4e59-4581-fd48-954121a763df"
      },
      "execution_count": null,
      "outputs": [
        {
          "output_type": "stream",
          "name": "stdout",
          "text": [
            "{'Jane': 10, 'Laura': 20, 'Joy': 15, 'Jerry': 20, 'Janet': 50, 'David': 70}\n"
          ]
        }
      ]
    },
    {
      "cell_type": "code",
      "source": [
        "# method 2"
      ],
      "metadata": {
        "id": "yaoglD8LPhFQ"
      },
      "execution_count": null,
      "outputs": []
    },
    {
      "cell_type": "code",
      "source": [
        "students = {'Jane':10, 'Laura':20, 'Joy':15}\n",
        "parents = {'Jerry':20, 'Janet':50, 'David':70}\n",
        "New_dict = {**students, **parents}\n",
        "print(New_dict)"
      ],
      "metadata": {
        "colab": {
          "base_uri": "https://localhost:8080/"
        },
        "id": "lwsUEB3iVQ_7",
        "outputId": "80d82331-d2f7-44e6-88d7-8fb33880e3b6"
      },
      "execution_count": null,
      "outputs": [
        {
          "output_type": "stream",
          "name": "stdout",
          "text": [
            "{'Jane': 10, 'Laura': 20, 'Joy': 15, 'Jerry': 20, 'Janet': 50, 'David': 70}\n"
          ]
        }
      ]
    },
    {
      "cell_type": "code",
      "source": [
        "#5 write a python program to remove a key from a dictionary"
      ],
      "metadata": {
        "id": "H3ZcIYoBVRCx"
      },
      "execution_count": null,
      "outputs": []
    },
    {
      "cell_type": "code",
      "source": [
        "students = {'Jane':10, 'Laura':20, 'Joy':15}\n",
        "students.pop('Laura')\n",
        "print(students)\n"
      ],
      "metadata": {
        "colab": {
          "base_uri": "https://localhost:8080/"
        },
        "id": "v_Ip2kbaPhHr",
        "outputId": "6440c0af-c50e-4ab2-aa69-7555d2607ea2"
      },
      "execution_count": null,
      "outputs": [
        {
          "output_type": "stream",
          "name": "stdout",
          "text": [
            "{'Jane': 10, 'Joy': 15}\n"
          ]
        }
      ]
    },
    {
      "cell_type": "code",
      "source": [
        "#method 2"
      ],
      "metadata": {
        "id": "EHM-6pG5PhM9"
      },
      "execution_count": null,
      "outputs": []
    },
    {
      "cell_type": "code",
      "source": [
        "students = {'Jane':10, 'Laura':20, 'Joy':15}\n",
        "del students['Laura']\n",
        "print(students)\n"
      ],
      "metadata": {
        "colab": {
          "base_uri": "https://localhost:8080/"
        },
        "id": "LdvlRWXAWIKX",
        "outputId": "02504af4-dcbc-4194-f3f6-11f076572764"
      },
      "execution_count": null,
      "outputs": [
        {
          "output_type": "stream",
          "name": "stdout",
          "text": [
            "{'Jane': 10, 'Joy': 15}\n"
          ]
        }
      ]
    },
    {
      "cell_type": "code",
      "source": [
        "# method 3"
      ],
      "metadata": {
        "id": "2H0M7quzWIQf"
      },
      "execution_count": null,
      "outputs": []
    },
    {
      "cell_type": "code",
      "source": [
        "students = {'Jane':10, 'Laura':20, 'Joy':15}\n",
        "students.popitem()\n",
        "print(students)"
      ],
      "metadata": {
        "colab": {
          "base_uri": "https://localhost:8080/"
        },
        "id": "JDVYPcROXu9H",
        "outputId": "f7f84cfe-da57-4781-e68d-49c58d3d1033"
      },
      "execution_count": null,
      "outputs": [
        {
          "output_type": "stream",
          "name": "stdout",
          "text": [
            "{'Jane': 10, 'Laura': 20}\n"
          ]
        }
      ]
    },
    {
      "cell_type": "code",
      "source": [
        "#6 write a python program to convert a list to a tuple"
      ],
      "metadata": {
        "id": "9ljmsYD9Xu-6"
      },
      "execution_count": null,
      "outputs": []
    },
    {
      "cell_type": "code",
      "source": [
        "colours = [\"Pink\", \"Purple\", \"Indigo\", \"Orange\", \"Blue\"]\n",
        "colour_tuple = tuple(colours)\n",
        "print(colour_tuple)"
      ],
      "metadata": {
        "colab": {
          "base_uri": "https://localhost:8080/"
        },
        "id": "w6ygUGrCYN-z",
        "outputId": "aba0691d-e8cb-420b-a04b-215013878ad4"
      },
      "execution_count": null,
      "outputs": [
        {
          "output_type": "stream",
          "name": "stdout",
          "text": [
            "('Pink', 'Purple', 'Indigo', 'Orange', 'Blue')\n"
          ]
        }
      ]
    },
    {
      "cell_type": "code",
      "source": [],
      "metadata": {
        "id": "uxrD0m9KYOAi"
      },
      "execution_count": null,
      "outputs": []
    },
    {
      "cell_type": "code",
      "source": [],
      "metadata": {
        "id": "Y_wel3FKbac0"
      },
      "execution_count": null,
      "outputs": []
    },
    {
      "cell_type": "code",
      "source": [],
      "metadata": {
        "id": "9aL9G1FeYOGQ"
      },
      "execution_count": null,
      "outputs": []
    }
  ]
}